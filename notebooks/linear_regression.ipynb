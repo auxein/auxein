{
 "cells": [
  {
   "cell_type": "code",
   "execution_count": 1,
   "metadata": {},
   "outputs": [],
   "source": [
    "%matplotlib inline  \n",
    "import numpy as np\n",
    "import matplotlib.pyplot as plt"
   ]
  },
  {
   "cell_type": "code",
   "execution_count": 20,
   "metadata": {},
   "outputs": [],
   "source": [
    "size = 100\n",
    "\n",
    "x = np.arange(size)\n",
    "\n",
    "delta = np.random.uniform(-15,15, size=(size,))\n",
    "\n",
    "y = .4*x + 3 + delta"
   ]
  },
  {
   "cell_type": "code",
   "execution_count": 21,
   "metadata": {},
   "outputs": [
    {
     "name": "stderr",
     "output_type": "stream",
     "text": [
      "DEBUG:matplotlib.axes._base:update_title_pos\n",
      "DEBUG:matplotlib.axes._base:update_title_pos\n",
      "DEBUG:matplotlib.axes._base:update_title_pos\n",
      "DEBUG:matplotlib.axes._base:update_title_pos\n",
      "DEBUG:matplotlib.axes._base:update_title_pos\n"
     ]
    },
    {
     "data": {
      "image/png": "[encoded data removed]",
      "text/plain": [
       "<Figure size 432x288 with 1 Axes>"
      ]
     },
     "metadata": {
      "needs_background": "light"
     },
     "output_type": "display_data"
    }
   ],
   "source": [
    "plt.scatter(x, y);"
   ]
  },
  {
   "cell_type": "code",
   "execution_count": 22,
   "metadata": {},
   "outputs": [],
   "source": [
    "from auxein.population import build_population\n",
    "from auxein.playgrounds import Static\n",
    "from auxein.fitness import LinearLeastSquares\n",
    "from auxein.mutations import SelfAdaptiveSingleStep\n",
    "from auxein.recombinations import SimpleArithmetic\n",
    "from auxein.parents.distributions import SigmaScaling\n",
    "from auxein.parents.selections import StochasticUniversalSampling\n",
    "from auxein.replacements import ReplaceWorst"
   ]
  },
  {
   "cell_type": "code",
   "execution_count": 23,
   "metadata": {},
   "outputs": [
    {
     "name": "stderr",
     "output_type": "stream",
     "text": [
      "INFO:root:Starting evolution cycle with a maximum of 50 generations\n",
      "DEBUG:root:0/50 -- average_fitness: -149461.79914603903\n",
      "DEBUG:root:1/50 -- average_fitness: -140367.0723654618\n",
      "DEBUG:root:2/50 -- average_fitness: -129397.19984783199\n",
      "DEBUG:root:3/50 -- average_fitness: -122307.89809359843\n",
      "DEBUG:root:4/50 -- average_fitness: -113889.26259283269\n",
      "DEBUG:root:5/50 -- average_fitness: -105313.26329329071\n",
      "DEBUG:root:6/50 -- average_fitness: -101920.41504899923\n",
      "DEBUG:root:7/50 -- average_fitness: -94569.28605574396\n",
      "DEBUG:root:8/50 -- average_fitness: -87352.92762724031\n",
      "DEBUG:root:9/50 -- average_fitness: -81632.96254889552\n",
      "DEBUG:root:10/50 -- average_fitness: -76687.58164049077\n",
      "DEBUG:root:11/50 -- average_fitness: -71935.92435078228\n",
      "DEBUG:root:12/50 -- average_fitness: -80690.36992437355\n",
      "DEBUG:root:13/50 -- average_fitness: -69951.94587221822\n",
      "DEBUG:root:14/50 -- average_fitness: -65930.74745074176\n",
      "DEBUG:root:15/50 -- average_fitness: -61949.09152024875\n",
      "DEBUG:root:16/50 -- average_fitness: -57999.373204394564\n",
      "DEBUG:root:17/50 -- average_fitness: -61261.806643060045\n",
      "DEBUG:root:18/50 -- average_fitness: -57093.5548301262\n",
      "DEBUG:root:19/50 -- average_fitness: -61876.843839310175\n",
      "DEBUG:root:20/50 -- average_fitness: -53372.1748217825\n",
      "DEBUG:root:21/50 -- average_fitness: -50434.22702726157\n",
      "DEBUG:root:22/50 -- average_fitness: -49559.23329137279\n",
      "DEBUG:root:23/50 -- average_fitness: -83973.92484493095\n",
      "DEBUG:root:24/50 -- average_fitness: -47044.352057839445\n",
      "DEBUG:root:25/50 -- average_fitness: -44780.488795510166\n",
      "DEBUG:root:26/50 -- average_fitness: -48827.757913664325\n",
      "DEBUG:root:27/50 -- average_fitness: -41664.32709142731\n",
      "DEBUG:root:28/50 -- average_fitness: -41712.46195702219\n",
      "DEBUG:root:29/50 -- average_fitness: -40211.00588848697\n",
      "DEBUG:root:30/50 -- average_fitness: -37508.60142806031\n",
      "DEBUG:root:31/50 -- average_fitness: -42904.5349808908\n",
      "DEBUG:root:32/50 -- average_fitness: -35170.55826942457\n",
      "DEBUG:root:33/50 -- average_fitness: -35233.73487314315\n",
      "DEBUG:root:34/50 -- average_fitness: -32658.381839197213\n",
      "DEBUG:root:35/50 -- average_fitness: -31981.637661056095\n",
      "DEBUG:root:36/50 -- average_fitness: -33133.904434773285\n",
      "DEBUG:root:37/50 -- average_fitness: -30225.525058111092\n",
      "DEBUG:root:38/50 -- average_fitness: -28936.52736515194\n",
      "DEBUG:root:39/50 -- average_fitness: -32810.3755682446\n",
      "DEBUG:root:40/50 -- average_fitness: -28032.104300356157\n",
      "DEBUG:root:41/50 -- average_fitness: -31075.720825538323\n",
      "DEBUG:root:42/50 -- average_fitness: -28503.227262487435\n",
      "DEBUG:root:43/50 -- average_fitness: -36416.71046684679\n",
      "DEBUG:root:44/50 -- average_fitness: -26239.101773473554\n",
      "DEBUG:root:45/50 -- average_fitness: -25430.63308010433\n",
      "DEBUG:root:46/50 -- average_fitness: -24959.556283883638\n",
      "DEBUG:root:47/50 -- average_fitness: -25350.61510586999\n",
      "DEBUG:root:48/50 -- average_fitness: -23670.160109079166\n",
      "DEBUG:root:49/50 -- average_fitness: -27330.90594642367\n",
      "INFO:root:Training ended with average_fitness: -24115.91737257861\n"
     ]
    }
   ],
   "source": [
    "fitness_function = LinearLeastSquares(x.reshape(size, 1), y)\n",
    "population = build_population(2, 100, fitness_function)\n",
    "playground = Static(\n",
    "    population = population,\n",
    "    fitness = fitness_function,\n",
    "    mutation = SelfAdaptiveSingleStep(0.05),\n",
    "    distribution = SigmaScaling(),\n",
    "    selection = StochasticUniversalSampling(offspring_size = 2),\n",
    "    recombination = SimpleArithmetic(alpha = 0.5),\n",
    "    replacement = ReplaceWorst(offspring_size = 2)\n",
    ")\n",
    "stats = playground.train(50)"
   ]
  },
  {
   "cell_type": "code",
   "execution_count": 24,
   "metadata": {},
   "outputs": [
    {
     "data": {
      "text/plain": [
       "{'generation_count': 50,\n",
       " 'size': 100,\n",
       " 'mean_age': 4.585496923923492,\n",
       " 'std_age': 0.8412940216700991,\n",
       " 'max_age': 5.370320081710815,\n",
       " 'min_age': 2.9129834175109863,\n",
       " 'mean_fitness': -24115.91737257861,\n",
       " 'min_fitness': -96692.60703448509,\n",
       " 'max_fitness': -7339.584606104435,\n",
       " 'std_fitness': 16386.41278051669}"
      ]
     },
     "execution_count": 24,
     "metadata": {},
     "output_type": "execute_result"
    }
   ],
   "source": [
    "population.get_stats()"
   ]
  },
  {
   "cell_type": "code",
   "execution_count": 25,
   "metadata": {},
   "outputs": [],
   "source": [
    "[a, b] = playground.get_most_performant().genotype.dna"
   ]
  },
  {
   "cell_type": "code",
   "execution_count": 26,
   "metadata": {},
   "outputs": [],
   "source": [
    "y_pred = a*x + b"
   ]
  },
  {
   "cell_type": "code",
   "execution_count": 27,
   "metadata": {},
   "outputs": [
    {
     "name": "stderr",
     "output_type": "stream",
     "text": [
      "DEBUG:matplotlib.axes._base:update_title_pos\n",
      "DEBUG:matplotlib.axes._base:update_title_pos\n",
      "DEBUG:matplotlib.axes._base:update_title_pos\n",
      "DEBUG:matplotlib.axes._base:update_title_pos\n",
      "DEBUG:matplotlib.axes._base:update_title_pos\n"
     ]
    },
    {
     "data": {
      "image/png": "[encoded data removed]",
      "text/plain": [
       "<Figure size 432x288 with 1 Axes>"
      ]
     },
     "metadata": {
      "needs_background": "light"
     },
     "output_type": "display_data"
    }
   ],
   "source": [
    "plt.scatter(x, y);\n",
    "plt.plot(x, y_pred, color='red');"
   ]
  },
  {
   "cell_type": "code",
   "execution_count": 28,
   "metadata": {},
   "outputs": [
    {
     "name": "stderr",
     "output_type": "stream",
     "text": [
      "DEBUG:matplotlib.axes._base:update_title_pos\n",
      "DEBUG:matplotlib.axes._base:update_title_pos\n",
      "DEBUG:matplotlib.axes._base:update_title_pos\n",
      "DEBUG:matplotlib.axes._base:update_title_pos\n",
      "DEBUG:matplotlib.axes._base:update_title_pos\n"
     ]
    },
    {
     "data": {
      "image/png": "[encoded data removed]",
      "text/plain": [
       "<Figure size 432x288 with 1 Axes>"
      ]
     },
     "metadata": {
      "needs_background": "light"
     },
     "output_type": "display_data"
    }
   ],
   "source": [
    "plt.plot(stats['generation'], stats['mean_fitness'], color='red');"
   ]
  },
  {
   "cell_type": "code",
   "execution_count": 123,
   "metadata": {},
   "outputs": [
    {
     "data": {
      "text/plain": [
       "12"
      ]
     },
     "execution_count": 123,
     "metadata": {},
     "output_type": "execute_result"
    }
   ],
   "source": [
    "np.polyval([10, 2], 1)"
   ]
  },
  {
   "cell_type": "code",
   "execution_count": 116,
   "metadata": {},
   "outputs": [
    {
     "data": {
      "text/plain": [
       "True"
      ]
     },
     "execution_count": 116,
     "metadata": {},
     "output_type": "execute_result"
    }
   ],
   "source": [
    "type(np.array([1,2])) == np.ndarray"
   ]
  },
  {
   "cell_type": "code",
   "execution_count": 114,
   "metadata": {},
   "outputs": [
    {
     "ename": "AttributeError",
     "evalue": "'list' object has no attribute 'size'",
     "output_type": "error",
     "traceback": [
      "\u001b[0;31m---------------------------------------------------------------------------\u001b[0m",
      "\u001b[0;31mAttributeError\u001b[0m                            Traceback (most recent call last)",
      "\u001b[0;32m<ipython-input-114-6445103cb04d>\u001b[0m in \u001b[0;36m<module>\u001b[0;34m\u001b[0m\n\u001b[0;32m----> 1\u001b[0;31m \u001b[0;34m[\u001b[0m\u001b[0;36m1\u001b[0m\u001b[0;34m,\u001b[0m\u001b[0;36m2\u001b[0m\u001b[0;34m]\u001b[0m\u001b[0;34m.\u001b[0m\u001b[0msize\u001b[0m\u001b[0;34m\u001b[0m\u001b[0;34m\u001b[0m\u001b[0m\n\u001b[0m",
      "\u001b[0;31mAttributeError\u001b[0m: 'list' object has no attribute 'size'"
     ]
    }
   ],
   "source": [
    "[1,2].size"
   ]
  },
  {
   "cell_type": "code",
   "execution_count": null,
   "metadata": {},
   "outputs": [],
   "source": []
  }
 ],
 "metadata": {
  "kernelspec": {
   "display_name": "Python [conda env:Python3]",
   "language": "python",
   "name": "conda-env-Python3-py"
  },
  "language_info": {
   "codemirror_mode": {
    "name": "ipython",
    "version": 3
   },
   "file_extension": ".py",
   "mimetype": "text/x-python",
   "name": "python",
   "nbconvert_exporter": "python",
   "pygments_lexer": "ipython3",
   "version": "3.6.7"
  }
 },
 "nbformat": 4,
 "nbformat_minor": 2
}
