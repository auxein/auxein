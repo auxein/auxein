{
 "cells": [
  {
   "cell_type": "markdown",
   "metadata": {},
   "source": [
    "# Linear regression with an evolutionary algorithm"
   ]
  },
  {
   "cell_type": "markdown",
   "metadata": {},
   "source": [
    "In this notebook, we will show how to use Auxein and a simple evolutionary algorithm to perfom a [simple linear regression](https://en.wikipedia.org/wiki/Simple_linear_regression)."
   ]
  },
  {
   "cell_type": "code",
   "execution_count": 4,
   "metadata": {},
   "outputs": [],
   "source": [
    "%matplotlib inline  \n",
    "import numpy as np\n",
    "import matplotlib.pyplot as plt\n",
    "import os\n",
    "import logging\n",
    "\n",
    "logging.getLogger().setLevel(logging.CRITICAL)"
   ]
  },
  {
   "cell_type": "markdown",
   "metadata": {},
   "source": [
    "As a first step, we will randomly generate $100$ data points in the form of $(x_{i},y_{i})$ representing our observations of a linear function $y = f(x)$ affected by some uniform noise."
   ]
  },
  {
   "cell_type": "code",
   "execution_count": 5,
   "metadata": {},
   "outputs": [],
   "source": [
    "size = 100\n",
    "\n",
    "x = np.arange(size)\n",
    "\n",
    "delta = np.random.uniform(-15,15, size=(size,))\n",
    "\n",
    "y = .4*x + 3 + delta"
   ]
  },
  {
   "cell_type": "markdown",
   "metadata": {},
   "source": [
    "And then we visualise our observations drawn from $(x_{i},y_{i})$:"
   ]
  },
  {
   "cell_type": "code",
   "execution_count": 6,
   "metadata": {},
   "outputs": [
    {
     "data": {
      "image/png": "[encoded data removed]",
      "text/plain": [
       "<Figure size 432x288 with 1 Axes>"
      ]
     },
     "metadata": {
      "needs_background": "light"
     },
     "output_type": "display_data"
    }
   ],
   "source": [
    "plt.scatter(x, y);"
   ]
  },
  {
   "cell_type": "markdown",
   "metadata": {},
   "source": [
    "From now on, we will only assume that we have our observations $(x_{i},y_{i})$ and that we do not know the function $y = f(x)$ that generated them.\n",
    "\n",
    "Our goal is to find a function $\\hat{f} = ax + b$ such as $\\hat{f} \\sim f$, which means finding $a$ and $b$ of the linear equation."
   ]
  },
  {
   "cell_type": "markdown",
   "metadata": {},
   "source": [
    "The first thing to do is to use the $(x,y)$ observations and wrap them with a [Fitness function](https://github.com/auxein/auxein/blob/master/auxein/fitness/core.py#L15) $\\phi$ that Auxein can explore.\n",
    "\n",
    "Auxein comes with some pre-defined fitness functions. In this case, for our linear regression problem, we will use the [MultipleLinearRegression](https://github.com/auxein/auxein/blob/master/auxein/fitness/observation_based.py#L39)."
   ]
  },
  {
   "cell_type": "code",
   "execution_count": 7,
   "metadata": {},
   "outputs": [],
   "source": [
    "from auxein.fitness.observation_based import MultipleLinearRegression\n",
    "fitness_function = MultipleLinearRegression(x.reshape(size, 1), y)"
   ]
  },
  {
   "cell_type": "markdown",
   "metadata": {},
   "source": [
    "Then, the second step is to create an initial `population` of individuals. Each `individual` maps to candidate solution, which in this case would be a vector $(a, b)$.\n",
    "Auxein provides some utility functions to create initial populations, like the `build_fixed_dimension_population` used below."
   ]
  },
  {
   "cell_type": "code",
   "execution_count": 8,
   "metadata": {},
   "outputs": [],
   "source": [
    "from auxein.population.dna_builders import UniformRandomDnaBuilder\n",
    "from auxein.population import build_fixed_dimension_population\n",
    "population = build_fixed_dimension_population(2, 100, fitness_function, UniformRandomDnaBuilder((-10, -5)))"
   ]
  },
  {
   "cell_type": "markdown",
   "metadata": {},
   "source": [
    "Once we have a `fitness_function` and an initial `population`, we need to set up a [Playground](https://github.com/auxein/auxein/blob/master/auxein/playgrounds/static.py#L27).\n",
    "A playground is basically the object that represents our experiment."
   ]
  },
  {
   "cell_type": "code",
   "execution_count": 9,
   "metadata": {},
   "outputs": [],
   "source": [
    "from auxein.playgrounds import Static\n",
    "from auxein.mutations import SelfAdaptiveSingleStep\n",
    "from auxein.recombinations import SimpleArithmetic\n",
    "from auxein.parents.distributions import SigmaScaling\n",
    "from auxein.parents.selections import StochasticUniversalSampling\n",
    "from auxein.replacements import ReplaceWorst"
   ]
  },
  {
   "cell_type": "markdown",
   "metadata": {},
   "source": [
    "In order to instantiate a `playground` the following must be specified:\n",
    "* `mutation` strategy, which describes how `individual` dna will mutate. In this case we will use the [SelfAdaptiveSingleStep](https://github.com/auxein/auxein/blob/master/auxein/mutations/core.py#L62).\n",
    "* parents `distribution`, which gives a probability distribution for parents `selection`. We here use [SigmaScaling](https://github.com/auxein/auxein/blob/master/auxein/parents/distributions/core.py#L43) for distribution and [StochasticUniversalSampling](https://github.com/auxein/auxein/blob/master/auxein/parents/selections/core.py#L27) for selection.\n",
    "* `recombination` defines how fresh dna are created when `individual`s breed. Here we use the basic [SimpleArithmetic](https://github.com/auxein/auxein/blob/master/auxein/recombinations/core.py#L23).\n",
    "* for `replacement` we will use the basic [ReplaceWorst](https://github.com/auxein/auxein/blob/master/auxein/replacements/core.py#L34) which basically only replaces the 2-worst performing individuals."
   ]
  },
  {
   "cell_type": "code",
   "execution_count": 10,
   "metadata": {},
   "outputs": [],
   "source": [
    "offspring_size = 2\n",
    "playground = Static(\n",
    "    population = population,\n",
    "    fitness = fitness_function,\n",
    "    mutation = SelfAdaptiveSingleStep(0.05),\n",
    "    distribution = SigmaScaling(),\n",
    "    selection = StochasticUniversalSampling(offspring_size = offspring_size),\n",
    "    recombination = SimpleArithmetic(alpha = 0.5),\n",
    "    replacement = ReplaceWorst(offspring_size = offspring_size)\n",
    ")"
   ]
  },
  {
   "cell_type": "markdown",
   "metadata": {},
   "source": [
    "Invoking `playground.train(max_generations = 250)` will trigger the evolution process up to a maximum of $250$ generations."
   ]
  },
  {
   "cell_type": "code",
   "execution_count": null,
   "metadata": {},
   "outputs": [],
   "source": [
    "stats = playground.train(250)"
   ]
  },
  {
   "cell_type": "markdown",
   "metadata": {},
   "source": [
    "Once the training phase has ended, the `playground` returns a dictionary with some basic statistics on the population."
   ]
  },
  {
   "cell_type": "code",
   "execution_count": 12,
   "metadata": {},
   "outputs": [
    {
     "data": {
      "text/plain": [
       "{'generation_count': 250,\n",
       " 'size': 100,\n",
       " 'mean_age': 9.115996046066284,\n",
       " 'std_age': 3.412908707400015,\n",
       " 'max_age': 17.925524950027466,\n",
       " 'min_age': 4.060380697250366,\n",
       " 'mean_fitness': -80346.9320560305,\n",
       " 'min_fitness': -2196485.658979073,\n",
       " 'max_fitness': -9511.336203082225,\n",
       " 'std_fitness': 216776.78104930717}"
      ]
     },
     "execution_count": 12,
     "metadata": {},
     "output_type": "execute_result"
    }
   ],
   "source": [
    "population.get_stats()"
   ]
  },
  {
   "cell_type": "markdown",
   "metadata": {},
   "source": [
    "To get the most performant `individual` we can invoke `playground.get_most_performant()` and grab the dna of the individual."
   ]
  },
  {
   "cell_type": "code",
   "execution_count": 13,
   "metadata": {},
   "outputs": [],
   "source": [
    "[a, b] = playground.get_most_performant().genotype.dna"
   ]
  },
  {
   "cell_type": "markdown",
   "metadata": {},
   "source": [
    "In our case, the dna is a vector of dimension $2$ where the first scalar is our $a$ coefficient and the second is $b$."
   ]
  },
  {
   "cell_type": "code",
   "execution_count": 14,
   "metadata": {},
   "outputs": [
    {
     "data": {
      "text/plain": [
       "[0.5324091927021936, -4.396208137583363]"
      ]
     },
     "execution_count": 14,
     "metadata": {},
     "output_type": "execute_result"
    }
   ],
   "source": [
    "[a, b]"
   ]
  },
  {
   "cell_type": "markdown",
   "metadata": {},
   "source": [
    "Once we have $a$ and $b$, it might be useful to plot $\\hat{f} = ax + b$ against our observations $(x_{i},y_{i})$, to visually inspect the quality of our regression:"
   ]
  },
  {
   "cell_type": "code",
   "execution_count": 15,
   "metadata": {},
   "outputs": [
    {
     "data": {
      "image/png": "[encoded data removed]",
      "text/plain": [
       "<Figure size 432x288 with 1 Axes>"
      ]
     },
     "metadata": {
      "needs_background": "light"
     },
     "output_type": "display_data"
    }
   ],
   "source": [
    "y_pred = a*x + b\n",
    "plt.scatter(x, y);\n",
    "plt.plot(x, y_pred, color='red');"
   ]
  },
  {
   "cell_type": "markdown",
   "metadata": {},
   "source": [
    "It would be also useful to see how the mean fitness value changed over the generations. Intuitively, an increasing mean fitness might indicate that the evolution process is selecting better solutions for our problem."
   ]
  },
  {
   "cell_type": "code",
   "execution_count": 23,
   "metadata": {},
   "outputs": [
    {
     "data": {
      "image/png": "[encoded data removed]",
      "text/plain": [
       "<Figure size 432x288 with 1 Axes>"
      ]
     },
     "metadata": {
      "needs_background": "light"
     },
     "output_type": "display_data"
    }
   ],
   "source": [
    "mean_fitness_values = []\n",
    "for g in stats['generations'].values():\n",
    "    mean_fitness_values.append(g['mean_fitness'])\n",
    "\n",
    "plt.plot(list(stats['generations'].keys()), mean_fitness_values, color='red');"
   ]
  },
  {
   "cell_type": "markdown",
   "metadata": {},
   "source": [
    "It's probably worth noting as after a certain number of generations, the mean fitness doesn't improve anymore, making totally pointless to keep the evolution process going on."
   ]
  }
 ],
 "metadata": {
  "kernelspec": {
   "display_name": "Python [conda env:Python3]",
   "language": "python",
   "name": "conda-env-Python3-py"
  },
  "language_info": {
   "codemirror_mode": {
    "name": "ipython",
    "version": 3
   },
   "file_extension": ".py",
   "mimetype": "text/x-python",
   "name": "python",
   "nbconvert_exporter": "python",
   "pygments_lexer": "ipython3",
   "version": "3.6.10"
  }
 },
 "nbformat": 4,
 "nbformat_minor": 2
}
