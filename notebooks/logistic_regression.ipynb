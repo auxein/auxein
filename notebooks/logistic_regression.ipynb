{
 "cells": [
  {
   "cell_type": "markdown",
   "metadata": {},
   "source": [
    "# Logistic regression with an evolutionary algorithm"
   ]
  },
  {
   "cell_type": "markdown",
   "metadata": {},
   "source": [
    "In this notebook, we will show how to use Auxein and a simple evolutionary algorithm to perfom a [logistic regression](https://en.wikipedia.org/wiki/Logistic_regression)."
   ]
  },
  {
   "cell_type": "code",
   "execution_count": 1,
   "metadata": {},
   "outputs": [],
   "source": [
    "%matplotlib inline  \n",
    "import numpy as np\n",
    "import matplotlib.pyplot as plt\n",
    "import os\n",
    "import logging\n",
    "\n",
    "logging.getLogger().setLevel(logging.CRITICAL)"
   ]
  },
  {
   "cell_type": "markdown",
   "metadata": {},
   "source": [
    "As a first step, we will generate a sigmoid function and we sample (and round to the closest integer) $100$ data points from it (in the form of $(x_{i},y_{i})$) which will represent our observations of a binary classification $y = f(x)$ where $y_{i} \\in \\{0, 1\\}$"
   ]
  },
  {
   "cell_type": "code",
   "execution_count": 2,
   "metadata": {},
   "outputs": [],
   "source": [
    "x = np.sort(np.random.choice(np.arange(-50, 50, 0.01), 100))\n",
    "\n",
    "alpha = -1.5\n",
    "b0 = 0.125 \n",
    "y = 1 / (1 + np.exp(-(alpha + b0*x)))\n",
    "y_rounded = np.array(list(map(lambda yi: round(yi), y)))"
   ]
  },
  {
   "cell_type": "markdown",
   "metadata": {},
   "source": [
    "And then we visualise our observations $(x_{i},y_{i})$:"
   ]
  },
  {
   "cell_type": "code",
   "execution_count": 3,
   "metadata": {},
   "outputs": [
    {
     "data": {
      "image/png": "[encoded data removed]",
      "text/plain": [
       "<Figure size 432x288 with 1 Axes>"
      ]
     },
     "metadata": {
      "needs_background": "light"
     },
     "output_type": "display_data"
    }
   ],
   "source": [
    "plt.scatter(x, y_rounded);"
   ]
  },
  {
   "cell_type": "markdown",
   "metadata": {},
   "source": [
    "From now on, we will only assume that we have our observations $(x_{i},y_{i})$ and we will pretend that we do not know the function $y = f(x)$ that generated them.\n",
    "\n",
    "Our goal is to find a function $\\hat{f}$ such as $\\hat{f} \\sim f$, which means finding a function that can approximate the underlying (unknown) function that generates our observations."
   ]
  },
  {
   "cell_type": "markdown",
   "metadata": {},
   "source": [
    "The first thing to do is to use the $(x,y)$ observations and wrap them with a [Fitness function](https://github.com/auxein/auxein/blob/master/auxein/fitness/core.py#L15) $\\phi$ that Auxein can explore.\n",
    "\n",
    "Auxein comes with some pre-defined fitness functions. In this case, given that our problem can be modeled as a [logistic regression](https://en.wikipedia.org/wiki/Logistic_regression), we will use the [MaximumLikelihood](https://github.com/auxein/auxein/blob/master/auxein/fitness/core.py#L88)."
   ]
  },
  {
   "cell_type": "code",
   "execution_count": 4,
   "metadata": {},
   "outputs": [],
   "source": [
    "from auxein.fitness import MaximumLogLikelihood\n",
    "fitness_function = MaximumLogLikelihood(x.reshape(100, 1), y_rounded)"
   ]
  },
  {
   "cell_type": "markdown",
   "metadata": {},
   "source": [
    "Then, the second step is to create an initial `population` of individuals. Each `individual` maps to candidate solution, which in this case would be a vector $(\\alpha, \\beta_{0})$ that fully specify a logistic regression model.\n",
    "\n",
    "Auxein provides some utility functions to create initial populations, like the `build_fixed_dimension_population` used below."
   ]
  },
  {
   "cell_type": "code",
   "execution_count": 5,
   "metadata": {},
   "outputs": [],
   "source": [
    "from auxein.population.dna_builders import UniformRandomDnaBuilder\n",
    "from auxein.population import build_fixed_dimension_population\n",
    "population = build_fixed_dimension_population(2, 100, fitness_function, UniformRandomDnaBuilder((-0.01, 0.01)))"
   ]
  },
  {
   "cell_type": "markdown",
   "metadata": {},
   "source": [
    "Once we have a `fitness_function` and an initial `population`, we need to set up a [Playground](https://github.com/auxein/auxein/blob/master/auxein/playgrounds/static.py#L27).\n",
    "A playground is basically the object that represents our experiment."
   ]
  },
  {
   "cell_type": "code",
   "execution_count": 6,
   "metadata": {},
   "outputs": [],
   "source": [
    "from auxein.playgrounds import Static\n",
    "from auxein.mutations import SelfAdaptiveSingleStep\n",
    "from auxein.recombinations import SimpleArithmetic\n",
    "from auxein.parents.distributions import SigmaScaling\n",
    "from auxein.parents.selections import StochasticUniversalSampling\n",
    "from auxein.replacements import ReplaceWorst"
   ]
  },
  {
   "cell_type": "markdown",
   "metadata": {},
   "source": [
    "In order to instantiate a `playground` the following must be specified:\n",
    "* `mutation` strategy, which describes how `individual` dna will mutate. In this case we will use the [SelfAdaptiveSingleStep](https://github.com/auxein/auxein/blob/master/auxein/mutations/core.py#L62).\n",
    "* parents `distribution`, which gives a probability distribution for parents `selection`. We here use [SigmaScaling](https://github.com/auxein/auxein/blob/master/auxein/parents/distributions/core.py#L43) for distribution and [StochasticUniversalSampling](https://github.com/auxein/auxein/blob/master/auxein/parents/selections/core.py#L27) for selection.\n",
    "* `recombination` defines how fresh dna are created when `individual`s breed. Here we use the basic [SimpleArithmetic](https://github.com/auxein/auxein/blob/master/auxein/recombinations/core.py#L23).\n",
    "* for `replacement` we will use the basic [ReplaceWorst](https://github.com/auxein/auxein/blob/master/auxein/replacements/core.py#L34) which basically only replaces the 2-worst performing individuals."
   ]
  },
  {
   "cell_type": "code",
   "execution_count": 7,
   "metadata": {},
   "outputs": [],
   "source": [
    "offspring_size = 4\n",
    "playground = Static(\n",
    "    population = population,\n",
    "    fitness = fitness_function,\n",
    "    mutation = SelfAdaptiveSingleStep(0.05),\n",
    "    distribution = SigmaScaling(),\n",
    "    selection = StochasticUniversalSampling(offspring_size = offspring_size),\n",
    "    recombination = SimpleArithmetic(alpha = 0.5),\n",
    "    replacement = ReplaceWorst(offspring_size = offspring_size)\n",
    ")"
   ]
  },
  {
   "cell_type": "markdown",
   "metadata": {},
   "source": [
    "Invoking `playground.train(max_generations=200)` will trigger the evolution process up to a maximum of $2o0$ generations."
   ]
  },
  {
   "cell_type": "code",
   "execution_count": null,
   "metadata": {},
   "outputs": [],
   "source": [
    "stats = playground.train(200)"
   ]
  },
  {
   "cell_type": "markdown",
   "metadata": {},
   "source": [
    "Once the training phase has ended, the `playground` returns a dictionary with some basic statistics on the population."
   ]
  },
  {
   "cell_type": "code",
   "execution_count": 9,
   "metadata": {},
   "outputs": [
    {
     "data": {
      "text/plain": [
       "{'generation_count': 200,\n",
       " 'size': 100,\n",
       " 'mean_age': 3.59069837808609,\n",
       " 'std_age': 2.4832709354894353,\n",
       " 'max_age': 12.107470035552979,\n",
       " 'min_age': 0.05727672576904297,\n",
       " 'mean_fitness': 96.11674192837219,\n",
       " 'min_fitness': 21.54037904605883,\n",
       " 'max_fitness': 98.71042892073581,\n",
       " 'std_fitness': 10.66347000189563}"
      ]
     },
     "execution_count": 9,
     "metadata": {},
     "output_type": "execute_result"
    }
   ],
   "source": [
    "population.get_stats()"
   ]
  },
  {
   "cell_type": "markdown",
   "metadata": {},
   "source": [
    "To get the most performant `individual` we can invoke `playground.get_most_performant()` and grab the dna of the individual."
   ]
  },
  {
   "cell_type": "code",
   "execution_count": 10,
   "metadata": {},
   "outputs": [],
   "source": [
    "[alpha_star, *coeff] = playground.get_most_performant().genotype.dna"
   ]
  },
  {
   "cell_type": "code",
   "execution_count": 11,
   "metadata": {},
   "outputs": [
    {
     "data": {
      "text/plain": [
       "-7.3975091334571355"
      ]
     },
     "execution_count": 11,
     "metadata": {},
     "output_type": "execute_result"
    }
   ],
   "source": [
    "alpha_star"
   ]
  },
  {
   "cell_type": "code",
   "execution_count": 12,
   "metadata": {},
   "outputs": [
    {
     "data": {
      "text/plain": [
       "[0.7129651707382398]"
      ]
     },
     "execution_count": 12,
     "metadata": {},
     "output_type": "execute_result"
    }
   ],
   "source": [
    "coeff"
   ]
  },
  {
   "cell_type": "markdown",
   "metadata": {},
   "source": [
    "Once we have $\\alpha$ and $\\beta_{0}$, it might be useful to plot $\\hat{f(x)} = \\frac{1}{1 - e^-{(\\alpha + \\beta_{0}x)}}$ against our observations $(x_{i},y_{i})$, to visually inspect the quality of our regression:"
   ]
  },
  {
   "cell_type": "code",
   "execution_count": 13,
   "metadata": {},
   "outputs": [
    {
     "data": {
      "image/png": "[encoded data removed]",
      "text/plain": [
       "<Figure size 432x288 with 1 Axes>"
      ]
     },
     "metadata": {
      "needs_background": "light"
     },
     "output_type": "display_data"
    }
   ],
   "source": [
    "y_pred = 1 / (1 + np.exp(-(alpha_star + coeff*x)))\n",
    "plt.scatter(x, y_rounded);\n",
    "plt.plot(x, y_pred, color='red');"
   ]
  }
 ],
 "metadata": {
  "kernelspec": {
   "display_name": "Python [conda env:Python3]",
   "language": "python",
   "name": "conda-env-Python3-py"
  },
  "language_info": {
   "codemirror_mode": {
    "name": "ipython",
    "version": 3
   },
   "file_extension": ".py",
   "mimetype": "text/x-python",
   "name": "python",
   "nbconvert_exporter": "python",
   "pygments_lexer": "ipython3",
   "version": "3.6.10"
  }
 },
 "nbformat": 4,
 "nbformat_minor": 2
}
