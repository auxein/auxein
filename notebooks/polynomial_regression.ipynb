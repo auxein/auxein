{
 "cells": [
  {
   "cell_type": "code",
   "execution_count": 1,
   "metadata": {},
   "outputs": [],
   "source": [
    "%matplotlib inline  \n",
    "import numpy as np\n",
    "import matplotlib.pyplot as plt"
   ]
  },
  {
   "cell_type": "code",
   "execution_count": 2,
   "metadata": {},
   "outputs": [],
   "source": [
    "size = 5\n",
    "\n",
    "x = np.arange(-size, size, 0.1)\n",
    "\n",
    "delta = np.random.normal(5, 4.5, size=(100,))\n",
    "\n",
    "y = 0.5*x**3 - 2.5*x**2 + x + 2 + delta"
   ]
  },
  {
   "cell_type": "code",
   "execution_count": 9,
   "metadata": {},
   "outputs": [
    {
     "data": {
      "text/plain": [
       "100"
      ]
     },
     "execution_count": 9,
     "metadata": {},
     "output_type": "execute_result"
    }
   ],
   "source": [
    "len(x)"
   ]
  },
  {
   "cell_type": "code",
   "execution_count": 3,
   "metadata": {},
   "outputs": [
    {
     "data": {
      "image/png": "[encoded data removed]",
      "text/plain": [
       "<Figure size 432x288 with 1 Axes>"
      ]
     },
     "metadata": {
      "needs_background": "light"
     },
     "output_type": "display_data"
    }
   ],
   "source": [
    "plt.scatter(x, y);"
   ]
  },
  {
   "cell_type": "code",
   "execution_count": 4,
   "metadata": {},
   "outputs": [],
   "source": [
    "from auxein.population import build_variable_dimension_population\n",
    "from auxein.playgrounds import Static\n",
    "from auxein.fitness import SimplePolynomialRegression\n",
    "from auxein.mutations import SelfAdaptiveSingleStep\n",
    "from auxein.recombinations import SimpleArithmetic\n",
    "from auxein.parents.distributions import SigmaScaling\n",
    "from auxein.parents.selections import StochasticUniversalSampling\n",
    "from auxein.replacements import ReplaceWorst"
   ]
  },
  {
   "cell_type": "code",
   "execution_count": 35,
   "metadata": {},
   "outputs": [
    {
     "name": "stderr",
     "output_type": "stream",
     "text": [
      "INFO:root:Starting evolution cycle with a maximum of 50 generations\n",
      "DEBUG:root:0/50 -- average_fitness: -23443202213.085865\n",
      "DEBUG:root:1/50 -- average_fitness: -10963281043.416647\n",
      "DEBUG:root:2/50 -- average_fitness: -8330754740.34842\n",
      "DEBUG:root:3/50 -- average_fitness: -4805789111.108706\n",
      "DEBUG:root:4/50 -- average_fitness: -3158190460.0189815\n",
      "DEBUG:root:5/50 -- average_fitness: -4384792635.368573\n",
      "DEBUG:root:6/50 -- average_fitness: -1485462068.417818\n",
      "DEBUG:root:7/50 -- average_fitness: -811237956.7557772\n",
      "DEBUG:root:8/50 -- average_fitness: -406706785.03502756\n",
      "DEBUG:root:9/50 -- average_fitness: -201717561.84496528\n",
      "DEBUG:root:10/50 -- average_fitness: -154688278.2850693\n",
      "DEBUG:root:11/50 -- average_fitness: -121099568.02477723\n",
      "DEBUG:root:12/50 -- average_fitness: -91235277.36364816\n",
      "DEBUG:root:13/50 -- average_fitness: -65059430.06356872\n",
      "DEBUG:root:14/50 -- average_fitness: -42487662.180181675\n",
      "DEBUG:root:15/50 -- average_fitness: -26324999.368956223\n",
      "DEBUG:root:16/50 -- average_fitness: -16488876.516565436\n",
      "DEBUG:root:17/50 -- average_fitness: -10111198.038769789\n",
      "DEBUG:root:18/50 -- average_fitness: -6280686.051399249\n",
      "DEBUG:root:19/50 -- average_fitness: -4040465.347857067\n",
      "DEBUG:root:20/50 -- average_fitness: -3014834.601907996\n",
      "DEBUG:root:21/50 -- average_fitness: -2347509.8410666683\n",
      "DEBUG:root:22/50 -- average_fitness: -1803954.0452517578\n",
      "DEBUG:root:23/50 -- average_fitness: -1344163.4608635306\n",
      "DEBUG:root:24/50 -- average_fitness: -949266.3980502466\n",
      "DEBUG:root:25/50 -- average_fitness: -721416.4251596289\n",
      "DEBUG:root:26/50 -- average_fitness: -587454.2730676255\n",
      "DEBUG:root:27/50 -- average_fitness: -470883.55046280584\n",
      "DEBUG:root:28/50 -- average_fitness: -372265.0617749632\n",
      "DEBUG:root:29/50 -- average_fitness: -302669.80155868357\n",
      "DEBUG:root:30/50 -- average_fitness: -243777.80913464632\n",
      "DEBUG:root:31/50 -- average_fitness: -248263.80010642845\n",
      "DEBUG:root:32/50 -- average_fitness: -207784.79669719105\n",
      "DEBUG:root:33/50 -- average_fitness: -188789.90923748084\n",
      "DEBUG:root:34/50 -- average_fitness: -179605.62442643702\n",
      "DEBUG:root:35/50 -- average_fitness: -170290.6678168075\n",
      "DEBUG:root:36/50 -- average_fitness: -164251.54704369567\n",
      "DEBUG:root:37/50 -- average_fitness: -155588.54664486882\n",
      "DEBUG:root:38/50 -- average_fitness: -149115.8941425865\n",
      "DEBUG:root:39/50 -- average_fitness: -147645.54473136403\n",
      "DEBUG:root:40/50 -- average_fitness: -143752.847769863\n",
      "DEBUG:root:41/50 -- average_fitness: -139504.45873401765\n",
      "DEBUG:root:42/50 -- average_fitness: -136278.35955368\n",
      "DEBUG:root:43/50 -- average_fitness: -140990.176978721\n",
      "DEBUG:root:44/50 -- average_fitness: -134114.9713883131\n",
      "DEBUG:root:45/50 -- average_fitness: -130771.12592589627\n",
      "DEBUG:root:46/50 -- average_fitness: -182768.36034037528\n",
      "DEBUG:root:47/50 -- average_fitness: -128638.58988230788\n",
      "DEBUG:root:48/50 -- average_fitness: -126490.07307580934\n",
      "DEBUG:root:49/50 -- average_fitness: -125202.71611352757\n",
      "INFO:root:Training ended with average_fitness: -174768.014397686\n"
     ]
    }
   ],
   "source": [
    "fitness_function = SimplePolynomialRegression(x.reshape(len(x), 1), y)\n",
    "population = build_variable_dimension_population(100, fitness_function)\n",
    "playground = Static(\n",
    "    population = population,\n",
    "    fitness = fitness_function,\n",
    "    mutation = SelfAdaptiveSingleStep(0.05),\n",
    "    distribution = SigmaScaling(),\n",
    "    selection = StochasticUniversalSampling(offspring_size = 2),\n",
    "    recombination = SimpleArithmetic(alpha = 0.5, allow_uneven = True),\n",
    "    replacement = ReplaceWorst(offspring_size = 2)\n",
    ")\n",
    "stats = playground.train(50)"
   ]
  },
  {
   "cell_type": "code",
   "execution_count": 36,
   "metadata": {},
   "outputs": [
    {
     "data": {
      "text/plain": [
       "{'generation_count': 50,\n",
       " 'size': 100,\n",
       " 'mean_age': 23.65946061372757,\n",
       " 'std_age': 2.3378564718422123,\n",
       " 'max_age': 25.982707262039185,\n",
       " 'min_age': 19.36496353149414,\n",
       " 'mean_fitness': -174768.014397686,\n",
       " 'min_fitness': -5345440.100321769,\n",
       " 'max_fitness': -12268.277788407191,\n",
       " 'std_fitness': 520970.4142069336}"
      ]
     },
     "execution_count": 36,
     "metadata": {},
     "output_type": "execute_result"
    }
   ],
   "source": [
    "population.get_stats()"
   ]
  },
  {
   "cell_type": "code",
   "execution_count": 37,
   "metadata": {},
   "outputs": [
    {
     "data": {
      "text/plain": [
       "array([ 0.29324162, -1.74550356,  1.79619154,  0.86193267])"
      ]
     },
     "execution_count": 37,
     "metadata": {},
     "output_type": "execute_result"
    }
   ],
   "source": [
    "coeff = playground.get_most_performant().genotype.dna\n",
    "coeff"
   ]
  },
  {
   "cell_type": "code",
   "execution_count": 38,
   "metadata": {},
   "outputs": [],
   "source": [
    "y_pred = np.polyval(coeff, x)"
   ]
  },
  {
   "cell_type": "code",
   "execution_count": 39,
   "metadata": {},
   "outputs": [
    {
     "name": "stderr",
     "output_type": "stream",
     "text": [
      "DEBUG:matplotlib.axes._base:update_title_pos\n",
      "DEBUG:matplotlib.axes._base:update_title_pos\n",
      "DEBUG:matplotlib.axes._base:update_title_pos\n",
      "DEBUG:matplotlib.axes._base:update_title_pos\n",
      "DEBUG:matplotlib.axes._base:update_title_pos\n"
     ]
    },
    {
     "data": {
      "image/png": "[encoded data removed]",
      "text/plain": [
       "<Figure size 432x288 with 1 Axes>"
      ]
     },
     "metadata": {
      "needs_background": "light"
     },
     "output_type": "display_data"
    }
   ],
   "source": [
    "plt.scatter(x, y);\n",
    "plt.plot(x, y_pred, color='red');"
   ]
  },
  {
   "cell_type": "code",
   "execution_count": 40,
   "metadata": {},
   "outputs": [
    {
     "name": "stderr",
     "output_type": "stream",
     "text": [
      "DEBUG:matplotlib.axes._base:update_title_pos\n",
      "DEBUG:matplotlib.axes._base:update_title_pos\n",
      "DEBUG:matplotlib.axes._base:update_title_pos\n",
      "DEBUG:matplotlib.axes._base:update_title_pos\n",
      "DEBUG:matplotlib.axes._base:update_title_pos\n"
     ]
    },
    {
     "data": {
      "image/png": "[encoded data removed]",
      "text/plain": [
       "<Figure size 432x288 with 1 Axes>"
      ]
     },
     "metadata": {
      "needs_background": "light"
     },
     "output_type": "display_data"
    }
   ],
   "source": [
    "plt.plot(stats['generation'], stats['mean_fitness'], color='red');"
   ]
  },
  {
   "cell_type": "code",
   "execution_count": null,
   "metadata": {},
   "outputs": [],
   "source": []
  }
 ],
 "metadata": {
  "kernelspec": {
   "display_name": "Python [conda env:Python3]",
   "language": "python",
   "name": "conda-env-Python3-py"
  },
  "language_info": {
   "codemirror_mode": {
    "name": "ipython",
    "version": 3
   },
   "file_extension": ".py",
   "mimetype": "text/x-python",
   "name": "python",
   "nbconvert_exporter": "python",
   "pygments_lexer": "ipython3",
   "version": "3.6.7"
  }
 },
 "nbformat": 4,
 "nbformat_minor": 2
}
